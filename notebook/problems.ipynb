{
    "cells": [
        {
            "cell_type": "markdown",
            "id": "ac622319",
            "metadata": {},
            "source": [
                "# Descriptive statistics problems"
            ]
        },
        {
            "cell_type": "markdown",
            "id": "5e0ab0d5",
            "metadata": {},
            "source": [
                "### Exercise 1\n",
                "\n",
                "We will use NumPy to obtain information to describe statistically.\n",
                "\n",
                "- Generate an array of 100 elements following a normal distribution.\n",
                "- Generate an array of 100 elements following a chi-square distribution with 3 degrees of freedom.\n",
                "- Calculate the main metrics and statistical measures that best describe the two vectors."
            ]
        },
        {
            "cell_type": "code",
            "execution_count": 4,
            "id": "34720ab6",
            "metadata": {},
            "outputs": [
                {
                    "name": "stdout",
                    "output_type": "stream",
                    "text": [
                        "mean: 0.02379623542599393\n",
                        "median: 0.060853148820704944\n",
                        "mode: 1.7692090817720807\n",
                        "range: 4.986643884140168\n",
                        "variance: 0.9177360794085251\n",
                        "std dev: 0.9579854275554117\n",
                        "skewness: -0.5399807249092043\n",
                        "kurtosis: 0.3907460247859973\n",
                        "\n",
                        "\n",
                        "mean: 2.876125039307003\n",
                        "median: 2.1339911803713987\n",
                        "mode: 0.5664476938859894\n",
                        "range: 13.750198213484643\n",
                        "variance: 6.046814256336889\n",
                        "std dev: 2.4590270954865234\n",
                        "skewness: 1.6081639552856677\n",
                        "kurtosis: 3.28640267666319\n",
                        "\n",
                        "\n"
                    ]
                }
            ],
            "source": [
                "import numpy as np\n",
                "import statistics as stats\n",
                "from scipy.stats import skew\n",
                "from scipy.stats import kurtosis\n",
                "\n",
                "\n",
                "\n",
                "rng = np.random.default_rng()\n",
                "normally_distributed_array = rng.normal(size=100)\n",
                "chisqauare_distributed_array = rng.chisquare(df=3, size=100)\n",
                "\n",
                "def print_main_metrics_and_stats(collection):\n",
                "    print(f\"mean: {np.mean(collection)}\")\n",
                "    print(f\"median: {np.median(collection)}\")\n",
                "    print(f\"mode: {stats.mode(collection)}\")\n",
                "    print(f\"range: {max(collection) - min(collection)}\")\n",
                "    print(f\"variance: {stats.variance(collection)}\")\n",
                "    print(f\"std dev: {stats.stdev(collection)}\")\n",
                "    print(f\"skewness: {skew(collection)}\")\n",
                "    print(f\"kurtosis: {kurtosis(collection)}\")\n",
                "    print(\"\\n\")\n",
                "\n",
                "print_main_metrics_and_stats(normally_distributed_array)\n",
                "print_main_metrics_and_stats(chisqauare_distributed_array)"
            ]
        },
        {
            "cell_type": "markdown",
            "id": "46c70c3d",
            "metadata": {},
            "source": [
                "### Exercise 2\n",
                "\n",
                "Write a Python program to calculate the standard deviation of the following data:\n",
                "\n",
                "```py\n",
                "data = [4, 2, 5, 8, 6]\n",
                "```"
            ]
        },
        {
            "cell_type": "code",
            "execution_count": 2,
            "id": "d590308e",
            "metadata": {},
            "outputs": [],
            "source": [
                "# TODO"
            ]
        }
    ],
    "metadata": {
        "kernelspec": {
            "display_name": "Python 3",
            "language": "python",
            "name": "python3"
        },
        "language_info": {
            "codemirror_mode": {
                "name": "ipython",
                "version": 3
            },
            "file_extension": ".py",
            "mimetype": "text/x-python",
            "name": "python",
            "nbconvert_exporter": "python",
            "pygments_lexer": "ipython3",
            "version": "3.11.4"
        }
    },
    "nbformat": 4,
    "nbformat_minor": 5
}
